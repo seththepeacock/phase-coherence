{
 "cells": [
  {
   "cell_type": "code",
   "execution_count": 3,
   "id": "1dcd55b3",
   "metadata": {},
   "outputs": [
    {
     "name": "stdout",
     "output_type": "stream",
     "text": [
      "Loading Lots of Data\n",
      "Combining into one Dataframe!\n",
      "TT1learSOAEwf3.mat\n",
      "TT1learSOAEwf2.mat\n",
      "TT1learSOAEwf5.mat\n",
      "README.rtf\n",
      "TT1learSOAEwf1.mat\n",
      "TT3learSOAEwf3.mat\n",
      "TT3rearSOAEwf3.txt\n"
     ]
    }
   ],
   "source": [
    "from SOAEpeaks import load_df\n",
    "\n",
    "# Get different species\n",
    "df = load_df(laptop=True, dfs_to_load=[\"Lots of Data\"])\n",
    "species = 'Tegu'\n",
    "df_species = df[df['species'] == species]\n",
    "for i in range(len(df_species)):\n",
    "    row = df_species.iloc[i]\n",
    "    wf_fn = row['filepath'].split('\\\\')[-1]\n",
    "    print(wf_fn)\n",
    "    "
   ]
  },
  {
   "cell_type": "code",
   "execution_count": null,
   "id": "e4dc8090",
   "metadata": {},
   "outputs": [],
   "source": []
  },
  {
   "cell_type": "code",
   "execution_count": null,
   "id": "5f40c635",
   "metadata": {},
   "outputs": [],
   "source": []
  }
 ],
 "metadata": {
  "kernelspec": {
   "display_name": "base",
   "language": "python",
   "name": "python3"
  },
  "language_info": {
   "codemirror_mode": {
    "name": "ipython",
    "version": 3
   },
   "file_extension": ".py",
   "mimetype": "text/x-python",
   "name": "python",
   "nbconvert_exporter": "python",
   "pygments_lexer": "ipython3",
   "version": "3.10.15"
  }
 },
 "nbformat": 4,
 "nbformat_minor": 5
}
